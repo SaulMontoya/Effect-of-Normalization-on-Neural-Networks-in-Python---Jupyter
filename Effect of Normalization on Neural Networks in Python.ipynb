{
 "cells": [
  {
   "cell_type": "markdown",
   "metadata": {
    "collapsed": false
   },
   "source": [
    "<hr/>\n",
    "\n",
    "# Data import from chemistry and especies"
   ]
  },
  {
   "cell_type": "code",
   "execution_count": 6,
   "metadata": {
    "collapsed": false
   },
   "outputs": [
    {
     "data": {
      "text/plain": [
       "Index([u'Units', u'S1-01', u'S1-02', u'S1-03', u'S1-04', u'S1-05', u'S2-01',\n",
       "       u'S2-02', u'S2-03', u'S2-04', u'S2-05', u'S2-06', u'S2-07', u'S2-08',\n",
       "       u'S3-01', u'S3-02', u'S3-03', u'S3-04', u'S3-05'],\n",
       "      dtype='object')"
      ]
     },
     "execution_count": 6,
     "metadata": {},
     "output_type": "execute_result"
    }
   ],
   "source": [
    "import pandas as pd\n",
    "import numpy as np\n",
    "datostemp = pd.read_csv('datosquimica.csv',index_col=0)\n",
    "datosquimica = datostemp.T\n",
    "datosquimica.index"
   ]
  },
  {
   "cell_type": "code",
   "execution_count": 7,
   "metadata": {
    "collapsed": false
   },
   "outputs": [
    {
     "data": {
      "text/plain": [
       "['S2-01',\n",
       " 'S2-02',\n",
       " 'S2-03',\n",
       " 'S2-04',\n",
       " 'S2-05',\n",
       " 'S2-06',\n",
       " 'S2-07',\n",
       " 'S2-08',\n",
       " 'S1-01',\n",
       " 'S1-03',\n",
       " 'S1-05',\n",
       " 'S3-02',\n",
       " 'S3-03',\n",
       " 'S3-04']"
      ]
     },
     "execution_count": 7,
     "metadata": {},
     "output_type": "execute_result"
    }
   ],
   "source": [
    "datosespecies = pd.read_csv('datosespecies.csv',index_col=0)\n",
    "datosespecies.index.tolist()"
   ]
  },
  {
   "cell_type": "markdown",
   "metadata": {},
   "source": [
    "<hr/>\n",
    "\n",
    "# Generate a dataframe of chemistry with the same index as species"
   ]
  },
  {
   "cell_type": "code",
   "execution_count": 8,
   "metadata": {
    "collapsed": false
   },
   "outputs": [
    {
     "data": {
      "text/plain": [
       "array([[8.02, 92.9, 7.43, 10.5, 16.9],\n",
       "       [7.51, 97.7, 7.12, 11.7, 34.9],\n",
       "       [7.23, 104.2, 4.54, 19.2, 28.1],\n",
       "       [7.48, 109.8, 3.47, 17.1, 23.3],\n",
       "       [7.15, 80.6, 8.22, 17.2, 25.6]], dtype=object)"
      ]
     },
     "execution_count": 8,
     "metadata": {},
     "output_type": "execute_result"
    }
   ],
   "source": [
    "setquimica = datosquimica.reindex(datosespecies.index.tolist()).as_matrix()\n",
    "setquimica[:5,:5]"
   ]
  },
  {
   "cell_type": "markdown",
   "metadata": {},
   "source": [
    "<hr/>\n",
    "\n",
    "# Chemistry data normalization"
   ]
  },
  {
   "cell_type": "code",
   "execution_count": 9,
   "metadata": {
    "collapsed": false
   },
   "outputs": [
    {
     "name": "stdout",
     "output_type": "stream",
     "text": [
      "[[8.02 92.9 7.43]\n",
      " [7.51 97.7 7.12]\n",
      " [7.23 104.2 4.54]]\n",
      "[[0.07623574144486693 0.06567227484801358 0.08487548549234633]\n",
      " [0.07138783269961978 0.06906546020076347 0.0813342472012794]\n",
      " [0.06872623574144487 0.07366039869927896 0.05186200594014164]]\n",
      "[[1.067300380228137 0.9194118478721902 1.1882567968928486]\n",
      " [0.9994296577946769 0.9669164428106887 1.1386794608179116]\n",
      " [0.9621673003802284 1.0312455817899053 0.7260680831619829]]\n"
     ]
    },
    {
     "data": {
      "text/plain": [
       "(14, 12)"
      ]
     },
     "execution_count": 9,
     "metadata": {},
     "output_type": "execute_result"
    }
   ],
   "source": [
    "import numpy as np\n",
    "promedio_filas = setquimica.mean(axis=0)\n",
    "suma_filas = setquimica.sum(axis=0)\n",
    "setquimica_org = setquimica\n",
    "setquimica_suma = setquimica / suma_filas[np.newaxis,:]\n",
    "setquimica_mean = setquimica / promedio_filas[np.newaxis,:]\n",
    "print setquimica_org[:3,:3]\n",
    "print setquimica_suma[:3,:3]\n",
    "print setquimica_mean[:3,:3]\n",
    "\n",
    "setquimica.shape"
   ]
  },
  {
   "cell_type": "markdown",
   "metadata": {},
   "source": [
    "<hr/>\n",
    "\n",
    "# Define a function of neural networks"
   ]
  },
  {
   "cell_type": "code",
   "execution_count": 10,
   "metadata": {
    "collapsed": false
   },
   "outputs": [],
   "source": [
    "from sknn.mlp import Regressor, Layer\n",
    "def MLP(setquimica,setespecies,neurones,learnrate,niterac):\n",
    "    valor = ([])\n",
    "    redneural = Regressor(\n",
    "        layers=[\n",
    "            Layer(\"Rectifier\", units=neurones),\n",
    "            Layer(\"Linear\")],\n",
    "        learning_rate=learnrate,\n",
    "        n_iter=niterac)\n",
    "    redneural.fit(setquimica, setespecies)\n",
    "    for i in range(setquimica.shape[0]):\n",
    "        prediccion = redneural.predict(np.array([setquimica[i,:].tolist()]))\n",
    "        valor.append(prediccion[0][0])\n",
    "    return valor"
   ]
  },
  {
   "cell_type": "markdown",
   "metadata": {},
   "source": [
    "<hr />\n",
    "\n",
    "# Create an interactive plot"
   ]
  },
  {
   "cell_type": "code",
   "execution_count": 11,
   "metadata": {
    "collapsed": false
   },
   "outputs": [
    {
     "data": {
      "image/png": "[encoded data removed]",
      "text/plain": [
       "<matplotlib.figure.Figure at 0x11722e990>"
      ]
     },
     "metadata": {},
     "output_type": "display_data"
    }
   ],
   "source": [
    "%pylab inline\n",
    "import matplotlib.pyplot as plt\n",
    "from ipywidgets import widgets \n",
    "\n",
    "def grupored(neurones,learnrate,niterac,especie):\n",
    "    setespecies = datosespecies.as_matrix()[:,especie]\n",
    "    original = MLP(setquimica_org,setespecies,neurones,learnrate,niterac)\n",
    "    normalizado = MLP(setquimica_suma,setespecies,neurones,learnrate,niterac)\n",
    "    igualitario = MLP(setquimica_mean,setespecies,neurones,learnrate,niterac)\n",
    "    plt.figure(figsize=(6,6))\n",
    "    plt.scatter(setespecies, original, color='blue',alpha=0.5,label='original')\n",
    "    plt.scatter(setespecies, normalizado, color='red',alpha=0.5,label='normalizado')\n",
    "    plt.scatter(setespecies, igualitario, color='green',alpha=0.5,label='igualitario')\n",
    "    plt.plot([0,2000], [0,2000])\n",
    "    xlim(setespecies.min(),setespecies.max())\n",
    "    ylim(setespecies.min(),setespecies.max())\n",
    "    plt.legend(loc=2)\n",
    "    return plt.show()\n",
    "\n",
    "widgets.interact(grupored,neurones=(1,1000,200),learnrate=(0.00002,0.0008,0.00004)\n",
    "                 ,niterac=(1,10000,100),especie=1)"
   ]
  },
  {
   "cell_type": "code",
   "execution_count": null,
   "metadata": {
    "collapsed": true
   },
   "outputs": [],
   "source": []
  }
 ],
 "metadata": {
  "kernelspec": {
   "display_name": "Python 2",
   "language": "python",
   "name": "python2"
  },
  "language_info": {
   "codemirror_mode": {
    "name": "ipython",
    "version": 2
   },
   "file_extension": ".py",
   "mimetype": "text/x-python",
   "name": "python",
   "nbconvert_exporter": "python",
   "pygments_lexer": "ipython2",
   "version": "2.7.9"
  }
 },
 "nbformat": 4,
 "nbformat_minor": 0
}
